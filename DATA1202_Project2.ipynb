{
 "cells": [
  {
   "cell_type": "code",
   "execution_count": 19,
   "metadata": {
    "execution": {
     "iopub.execute_input": "2025-02-20T02:44:02.765589Z",
     "iopub.status.busy": "2025-02-20T02:44:02.765589Z",
     "iopub.status.idle": "2025-02-20T02:44:02.769256Z",
     "shell.execute_reply": "2025-02-20T02:44:02.769256Z",
     "shell.execute_reply.started": "2025-02-20T02:44:02.765589Z"
    },
    "id": "SkO83NbQ8rK7"
   },
   "outputs": [],
   "source": [
    "import pandas as pd"
   ]
  },
  {
   "cell_type": "code",
   "execution_count": 33,
   "metadata": {
    "execution": {
     "iopub.execute_input": "2025-02-20T02:45:00.637691Z",
     "iopub.status.busy": "2025-02-20T02:45:00.632749Z",
     "iopub.status.idle": "2025-02-20T02:45:00.664012Z",
     "shell.execute_reply": "2025-02-20T02:45:00.664012Z",
     "shell.execute_reply.started": "2025-02-20T02:45:00.637691Z"
    },
    "id": "S6euV-5uGFK5"
   },
   "outputs": [],
   "source": [
    "# import dataset\n",
    "youtube_data = pd.read_csv(\"youtube_dataset.csv\",encoding='latin1')"
   ]
  },
  {
   "cell_type": "code",
   "execution_count": 21,
   "metadata": {
    "colab": {
     "base_uri": "https://localhost:8080/",
     "height": 652
    },
    "execution": {
     "iopub.execute_input": "2025-02-20T02:44:05.478835Z",
     "iopub.status.busy": "2025-02-20T02:44:05.478835Z",
     "iopub.status.idle": "2025-02-20T02:44:05.493701Z",
     "shell.execute_reply": "2025-02-20T02:44:05.493701Z",
     "shell.execute_reply.started": "2025-02-20T02:44:05.478835Z"
    },
    "id": "iJD3v2Bb8yzl",
    "outputId": "97a5bb07-2a86-42e2-ad3d-ef64c9d17781",
    "scrolled": true
   },
   "outputs": [
    {
     "data": {
      "text/html": [
       "<div>\n",
       "<style scoped>\n",
       "    .dataframe tbody tr th:only-of-type {\n",
       "        vertical-align: middle;\n",
       "    }\n",
       "\n",
       "    .dataframe tbody tr th {\n",
       "        vertical-align: top;\n",
       "    }\n",
       "\n",
       "    .dataframe thead th {\n",
       "        text-align: right;\n",
       "    }\n",
       "</style>\n",
       "<table border=\"1\" class=\"dataframe\">\n",
       "  <thead>\n",
       "    <tr style=\"text-align: right;\">\n",
       "      <th></th>\n",
       "      <th>web-scraper-order</th>\n",
       "      <th>web-scraper-start-url</th>\n",
       "      <th>userID</th>\n",
       "      <th>userID-href</th>\n",
       "      <th>name</th>\n",
       "      <th>uploads</th>\n",
       "      <th>subscribers</th>\n",
       "      <th>videoviews</th>\n",
       "      <th>country</th>\n",
       "      <th>channeltype</th>\n",
       "      <th>usercreated</th>\n",
       "      <th>grade</th>\n",
       "      <th>YouTube_Link</th>\n",
       "      <th>YouTube_Link-href</th>\n",
       "      <th>TwitterHandle</th>\n",
       "      <th>TwitterHandle-href</th>\n",
       "      <th>InstagramHandle</th>\n",
       "      <th>InstagramHandle-href</th>\n",
       "      <th>MonthlyEarnings</th>\n",
       "      <th>YearlyEarnings</th>\n",
       "    </tr>\n",
       "  </thead>\n",
       "  <tbody>\n",
       "    <tr>\n",
       "      <th>0</th>\n",
       "      <td>1553043067-5148</td>\n",
       "      <td>https://socialblade.com/youtube/top/5000/mosts...</td>\n",
       "      <td>PewDiePie</td>\n",
       "      <td>https://socialblade.com/youtube/c/pewdiepie</td>\n",
       "      <td>PewDiePie</td>\n",
       "      <td>3779</td>\n",
       "      <td>90210848</td>\n",
       "      <td>20772365682</td>\n",
       "      <td>US</td>\n",
       "      <td>Entertainment</td>\n",
       "      <td>Apr 29th, 2010</td>\n",
       "      <td>A</td>\n",
       "      <td>NaN</td>\n",
       "      <td>https://youtube.com/channel/UC-lHJZR3Gqxm24_Vd...</td>\n",
       "      <td>NaN</td>\n",
       "      <td>https://twitter.com/pewdiepie</td>\n",
       "      <td>NaN</td>\n",
       "      <td>https://instagram.com/pewdiepie</td>\n",
       "      <td>66.9K - 1.1M</td>\n",
       "      <td>802.3K - 12.8M</td>\n",
       "    </tr>\n",
       "    <tr>\n",
       "      <th>1</th>\n",
       "      <td>1553043063-5147</td>\n",
       "      <td>https://socialblade.com/youtube/top/5000/mosts...</td>\n",
       "      <td>T-Series</td>\n",
       "      <td>https://socialblade.com/youtube/c/tseriesmusic</td>\n",
       "      <td>T-Series</td>\n",
       "      <td>13218</td>\n",
       "      <td>90194329</td>\n",
       "      <td>65092058996</td>\n",
       "      <td>IN</td>\n",
       "      <td>Music</td>\n",
       "      <td>Mar 13th, 2006</td>\n",
       "      <td>A++</td>\n",
       "      <td>NaN</td>\n",
       "      <td>https://youtube.com/channel/UCq-Fj5jknLsUf-MWS...</td>\n",
       "      <td>NaN</td>\n",
       "      <td>https://instagram.com/tseries.official</td>\n",
       "      <td>NaN</td>\n",
       "      <td>https://plus.google.com/115156822320080163368</td>\n",
       "      <td>635.6K - 10.2M</td>\n",
       "      <td>7.6M - 122M</td>\n",
       "    </tr>\n",
       "    <tr>\n",
       "      <th>2</th>\n",
       "      <td>1553043059-5146</td>\n",
       "      <td>https://socialblade.com/youtube/top/5000/mosts...</td>\n",
       "      <td>Gaming</td>\n",
       "      <td>https://socialblade.com/youtube/channel/UCOpNc...</td>\n",
       "      <td>Gaming</td>\n",
       "      <td>0</td>\n",
       "      <td>81888222</td>\n",
       "      <td>0</td>\n",
       "      <td>NaN</td>\n",
       "      <td>Games</td>\n",
       "      <td>Dec 15th, 2013</td>\n",
       "      <td>D-</td>\n",
       "      <td>NaN</td>\n",
       "      <td>https://youtube.com/channel/UCOpNcN46UbXVtpKMr...</td>\n",
       "      <td>NaN</td>\n",
       "      <td>NaN</td>\n",
       "      <td>NaN</td>\n",
       "      <td>https://youtube.com/channel/UCOpNcN46UbXVtpKMr...</td>\n",
       "      <td>0 - 0</td>\n",
       "      <td>0 - 0</td>\n",
       "    </tr>\n",
       "    <tr>\n",
       "      <th>3</th>\n",
       "      <td>1553043055-5145</td>\n",
       "      <td>https://socialblade.com/youtube/top/5000/mosts...</td>\n",
       "      <td>YouTube Movies</td>\n",
       "      <td>https://socialblade.com/youtube/channel/UClgRk...</td>\n",
       "      <td>YouTube Movies</td>\n",
       "      <td>0</td>\n",
       "      <td>77413743</td>\n",
       "      <td>0</td>\n",
       "      <td>NaN</td>\n",
       "      <td>Film</td>\n",
       "      <td>Jun 10th, 2015</td>\n",
       "      <td>D-</td>\n",
       "      <td>NaN</td>\n",
       "      <td>https://youtube.com/channel/UClgRkhTL3_hImCAmd...</td>\n",
       "      <td>NaN</td>\n",
       "      <td>NaN</td>\n",
       "      <td>NaN</td>\n",
       "      <td>https://youtube.com/channel/UClgRkhTL3_hImCAmd...</td>\n",
       "      <td>0 - 0</td>\n",
       "      <td>0 - 0</td>\n",
       "    </tr>\n",
       "    <tr>\n",
       "      <th>4</th>\n",
       "      <td>1553043051-5144</td>\n",
       "      <td>https://socialblade.com/youtube/top/5000/mosts...</td>\n",
       "      <td>Sports</td>\n",
       "      <td>https://socialblade.com/youtube/channel/UCEgdi...</td>\n",
       "      <td>Sports</td>\n",
       "      <td>0</td>\n",
       "      <td>75622870</td>\n",
       "      <td>0</td>\n",
       "      <td>NaN</td>\n",
       "      <td>Sports</td>\n",
       "      <td>Dec 15th, 2013</td>\n",
       "      <td>D-</td>\n",
       "      <td>NaN</td>\n",
       "      <td>https://youtube.com/channel/UCEgdi0XIXXZ-qJOFP...</td>\n",
       "      <td>NaN</td>\n",
       "      <td>NaN</td>\n",
       "      <td>NaN</td>\n",
       "      <td>https://youtube.com/channel/UCEgdi0XIXXZ-qJOFP...</td>\n",
       "      <td>0 - 0</td>\n",
       "      <td>0 - 0</td>\n",
       "    </tr>\n",
       "    <tr>\n",
       "      <th>...</th>\n",
       "      <td>...</td>\n",
       "      <td>...</td>\n",
       "      <td>...</td>\n",
       "      <td>...</td>\n",
       "      <td>...</td>\n",
       "      <td>...</td>\n",
       "      <td>...</td>\n",
       "      <td>...</td>\n",
       "      <td>...</td>\n",
       "      <td>...</td>\n",
       "      <td>...</td>\n",
       "      <td>...</td>\n",
       "      <td>...</td>\n",
       "      <td>...</td>\n",
       "      <td>...</td>\n",
       "      <td>...</td>\n",
       "      <td>...</td>\n",
       "      <td>...</td>\n",
       "      <td>...</td>\n",
       "      <td>...</td>\n",
       "    </tr>\n",
       "    <tr>\n",
       "      <th>3939</th>\n",
       "      <td>1553037913-3921</td>\n",
       "      <td>https://socialblade.com/youtube/top/5000/mosts...</td>\n",
       "      <td>Genius</td>\n",
       "      <td>https://socialblade.com/youtube/c/genius?</td>\n",
       "      <td>genius</td>\n",
       "      <td>0</td>\n",
       "      <td>20</td>\n",
       "      <td>0</td>\n",
       "      <td>NaN</td>\n",
       "      <td>Games</td>\n",
       "      <td>Aug 28th, 2005</td>\n",
       "      <td>D-</td>\n",
       "      <td>NaN</td>\n",
       "      <td>https://youtube.com/channel/UCdNvF54AYp2qRt8Dk...</td>\n",
       "      <td>NaN</td>\n",
       "      <td>NaN</td>\n",
       "      <td>NaN</td>\n",
       "      <td>https://youtube.com/channel/UCdNvF54AYp2qRt8Dk...</td>\n",
       "      <td>0 - 0</td>\n",
       "      <td>0 - 0</td>\n",
       "    </tr>\n",
       "    <tr>\n",
       "      <th>3940</th>\n",
       "      <td>1553024302-913</td>\n",
       "      <td>https://socialblade.com/youtube/top/5000/mosts...</td>\n",
       "      <td>Wolfychu</td>\n",
       "      <td>https://socialblade.com/youtube/c/wolfychu</td>\n",
       "      <td>WolfyChu</td>\n",
       "      <td>16</td>\n",
       "      <td>18</td>\n",
       "      <td>757</td>\n",
       "      <td>NaN</td>\n",
       "      <td>NaN</td>\n",
       "      <td>Feb 10th, 2008</td>\n",
       "      <td>TBD</td>\n",
       "      <td>NaN</td>\n",
       "      <td>https://youtube.com/channel/UCylrI37DWJfPPo8W2...</td>\n",
       "      <td>NaN</td>\n",
       "      <td>NaN</td>\n",
       "      <td>NaN</td>\n",
       "      <td>https://youtube.com/channel/UCylrI37DWJfPPo8W2...</td>\n",
       "      <td>0.65 - 10</td>\n",
       "      <td>8 - 124</td>\n",
       "    </tr>\n",
       "    <tr>\n",
       "      <th>3941</th>\n",
       "      <td>1553034470-3276</td>\n",
       "      <td>https://socialblade.com/youtube/top/5000/mosts...</td>\n",
       "      <td>FRANKIEonPC</td>\n",
       "      <td>https://socialblade.com/youtube/c/frankieonpc</td>\n",
       "      <td>frankieonpc</td>\n",
       "      <td>0</td>\n",
       "      <td>16</td>\n",
       "      <td>0</td>\n",
       "      <td>GB</td>\n",
       "      <td>Games</td>\n",
       "      <td>--</td>\n",
       "      <td>B-</td>\n",
       "      <td>NaN</td>\n",
       "      <td>https://youtube.com/channel/UCHF3A1sMkv7Q0ywaz...</td>\n",
       "      <td>NaN</td>\n",
       "      <td>NaN</td>\n",
       "      <td>NaN</td>\n",
       "      <td>https://youtube.com/channel/UCHF3A1sMkv7Q0ywaz...</td>\n",
       "      <td>195 - 3.1K</td>\n",
       "      <td>2.3K - 37.5K</td>\n",
       "    </tr>\n",
       "    <tr>\n",
       "      <th>3942</th>\n",
       "      <td>1553040011-4402</td>\n",
       "      <td>https://socialblade.com/youtube/top/5000/mosts...</td>\n",
       "      <td>Hi Gorgeous Anna Layza</td>\n",
       "      <td>https://socialblade.com/youtube/c/higorgeous</td>\n",
       "      <td>higorgeous</td>\n",
       "      <td>1</td>\n",
       "      <td>16</td>\n",
       "      <td>918</td>\n",
       "      <td>NaN</td>\n",
       "      <td>Comedy</td>\n",
       "      <td>Jan 2nd, 2007</td>\n",
       "      <td>B+</td>\n",
       "      <td>NaN</td>\n",
       "      <td>https://youtube.com/channel/UClrGcMQweED1oqTES...</td>\n",
       "      <td>NaN</td>\n",
       "      <td>NaN</td>\n",
       "      <td>NaN</td>\n",
       "      <td>https://youtube.com/channel/UClrGcMQweED1oqTES...</td>\n",
       "      <td>19.9K - 318.2K</td>\n",
       "      <td>238.7K - 3.8M</td>\n",
       "    </tr>\n",
       "    <tr>\n",
       "      <th>3943</th>\n",
       "      <td>1553027486-1650</td>\n",
       "      <td>https://socialblade.com/youtube/top/5000/mosts...</td>\n",
       "      <td>Druzhko Show</td>\n",
       "      <td>https://socialblade.com/youtube/c/druzhkoshow</td>\n",
       "      <td>druzhko show</td>\n",
       "      <td>0</td>\n",
       "      <td>12</td>\n",
       "      <td>0</td>\n",
       "      <td>NaN</td>\n",
       "      <td>NaN</td>\n",
       "      <td>Jan 30th, 2017</td>\n",
       "      <td>D-</td>\n",
       "      <td>NaN</td>\n",
       "      <td>https://youtube.com/channel/UCFYVnwfusuBfdNlKQ...</td>\n",
       "      <td>NaN</td>\n",
       "      <td>NaN</td>\n",
       "      <td>NaN</td>\n",
       "      <td>https://youtube.com/channel/UCFYVnwfusuBfdNlKQ...</td>\n",
       "      <td>0 - 0</td>\n",
       "      <td>0 - 0</td>\n",
       "    </tr>\n",
       "  </tbody>\n",
       "</table>\n",
       "<p>3944 rows × 20 columns</p>\n",
       "</div>"
      ],
      "text/plain": [
       "     web-scraper-order                              web-scraper-start-url  \\\n",
       "0      1553043067-5148  https://socialblade.com/youtube/top/5000/mosts...   \n",
       "1      1553043063-5147  https://socialblade.com/youtube/top/5000/mosts...   \n",
       "2      1553043059-5146  https://socialblade.com/youtube/top/5000/mosts...   \n",
       "3      1553043055-5145  https://socialblade.com/youtube/top/5000/mosts...   \n",
       "4      1553043051-5144  https://socialblade.com/youtube/top/5000/mosts...   \n",
       "...                ...                                                ...   \n",
       "3939   1553037913-3921  https://socialblade.com/youtube/top/5000/mosts...   \n",
       "3940    1553024302-913  https://socialblade.com/youtube/top/5000/mosts...   \n",
       "3941   1553034470-3276  https://socialblade.com/youtube/top/5000/mosts...   \n",
       "3942   1553040011-4402  https://socialblade.com/youtube/top/5000/mosts...   \n",
       "3943   1553027486-1650  https://socialblade.com/youtube/top/5000/mosts...   \n",
       "\n",
       "                      userID  \\\n",
       "0                  PewDiePie   \n",
       "1                   T-Series   \n",
       "2                     Gaming   \n",
       "3             YouTube Movies   \n",
       "4                     Sports   \n",
       "...                      ...   \n",
       "3939                  Genius   \n",
       "3940                Wolfychu   \n",
       "3941             FRANKIEonPC   \n",
       "3942  Hi Gorgeous Anna Layza   \n",
       "3943            Druzhko Show   \n",
       "\n",
       "                                            userID-href            name  \\\n",
       "0           https://socialblade.com/youtube/c/pewdiepie       PewDiePie   \n",
       "1        https://socialblade.com/youtube/c/tseriesmusic        T-Series   \n",
       "2     https://socialblade.com/youtube/channel/UCOpNc...          Gaming   \n",
       "3     https://socialblade.com/youtube/channel/UClgRk...  YouTube Movies   \n",
       "4     https://socialblade.com/youtube/channel/UCEgdi...          Sports   \n",
       "...                                                 ...             ...   \n",
       "3939          https://socialblade.com/youtube/c/genius?          genius   \n",
       "3940         https://socialblade.com/youtube/c/wolfychu        WolfyChu   \n",
       "3941      https://socialblade.com/youtube/c/frankieonpc     frankieonpc   \n",
       "3942       https://socialblade.com/youtube/c/higorgeous      higorgeous   \n",
       "3943      https://socialblade.com/youtube/c/druzhkoshow    druzhko show   \n",
       "\n",
       "      uploads  subscribers   videoviews country    channeltype  \\\n",
       "0        3779     90210848  20772365682      US  Entertainment   \n",
       "1       13218     90194329  65092058996      IN          Music   \n",
       "2           0     81888222            0     NaN          Games   \n",
       "3           0     77413743            0     NaN           Film   \n",
       "4           0     75622870            0     NaN         Sports   \n",
       "...       ...          ...          ...     ...            ...   \n",
       "3939        0           20            0     NaN          Games   \n",
       "3940       16           18          757     NaN            NaN   \n",
       "3941        0           16            0      GB          Games   \n",
       "3942        1           16          918     NaN         Comedy   \n",
       "3943        0           12            0     NaN            NaN   \n",
       "\n",
       "         usercreated grade YouTube_Link  \\\n",
       "0     Apr 29th, 2010     A          NaN   \n",
       "1     Mar 13th, 2006   A++          NaN   \n",
       "2     Dec 15th, 2013    D-          NaN   \n",
       "3     Jun 10th, 2015    D-          NaN   \n",
       "4     Dec 15th, 2013    D-          NaN   \n",
       "...              ...   ...          ...   \n",
       "3939  Aug 28th, 2005    D-          NaN   \n",
       "3940  Feb 10th, 2008   TBD          NaN   \n",
       "3941              --    B-          NaN   \n",
       "3942   Jan 2nd, 2007    B+          NaN   \n",
       "3943  Jan 30th, 2017    D-          NaN   \n",
       "\n",
       "                                      YouTube_Link-href TwitterHandle  \\\n",
       "0     https://youtube.com/channel/UC-lHJZR3Gqxm24_Vd...           NaN   \n",
       "1     https://youtube.com/channel/UCq-Fj5jknLsUf-MWS...           NaN   \n",
       "2     https://youtube.com/channel/UCOpNcN46UbXVtpKMr...           NaN   \n",
       "3     https://youtube.com/channel/UClgRkhTL3_hImCAmd...           NaN   \n",
       "4     https://youtube.com/channel/UCEgdi0XIXXZ-qJOFP...           NaN   \n",
       "...                                                 ...           ...   \n",
       "3939  https://youtube.com/channel/UCdNvF54AYp2qRt8Dk...           NaN   \n",
       "3940  https://youtube.com/channel/UCylrI37DWJfPPo8W2...           NaN   \n",
       "3941  https://youtube.com/channel/UCHF3A1sMkv7Q0ywaz...           NaN   \n",
       "3942  https://youtube.com/channel/UClrGcMQweED1oqTES...           NaN   \n",
       "3943  https://youtube.com/channel/UCFYVnwfusuBfdNlKQ...           NaN   \n",
       "\n",
       "                          TwitterHandle-href InstagramHandle  \\\n",
       "0              https://twitter.com/pewdiepie             NaN   \n",
       "1     https://instagram.com/tseries.official             NaN   \n",
       "2                                        NaN             NaN   \n",
       "3                                        NaN             NaN   \n",
       "4                                        NaN             NaN   \n",
       "...                                      ...             ...   \n",
       "3939                                     NaN             NaN   \n",
       "3940                                     NaN             NaN   \n",
       "3941                                     NaN             NaN   \n",
       "3942                                     NaN             NaN   \n",
       "3943                                     NaN             NaN   \n",
       "\n",
       "                                   InstagramHandle-href   MonthlyEarnings  \\\n",
       "0                       https://instagram.com/pewdiepie    66.9K - 1.1M   \n",
       "1         https://plus.google.com/115156822320080163368  635.6K - 10.2M   \n",
       "2     https://youtube.com/channel/UCOpNcN46UbXVtpKMr...           0 - 0   \n",
       "3     https://youtube.com/channel/UClgRkhTL3_hImCAmd...           0 - 0   \n",
       "4     https://youtube.com/channel/UCEgdi0XIXXZ-qJOFP...           0 - 0   \n",
       "...                                                 ...               ...   \n",
       "3939  https://youtube.com/channel/UCdNvF54AYp2qRt8Dk...           0 - 0   \n",
       "3940  https://youtube.com/channel/UCylrI37DWJfPPo8W2...       0.65 - 10   \n",
       "3941  https://youtube.com/channel/UCHF3A1sMkv7Q0ywaz...      195 - 3.1K   \n",
       "3942  https://youtube.com/channel/UClrGcMQweED1oqTES...  19.9K - 318.2K   \n",
       "3943  https://youtube.com/channel/UCFYVnwfusuBfdNlKQ...           0 - 0   \n",
       "\n",
       "        YearlyEarnings  \n",
       "0     802.3K - 12.8M  \n",
       "1        7.6M - 122M  \n",
       "2              0 - 0  \n",
       "3              0 - 0  \n",
       "4              0 - 0  \n",
       "...                ...  \n",
       "3939           0 - 0  \n",
       "3940         8 - 124  \n",
       "3941    2.3K - 37.5K  \n",
       "3942   238.7K - 3.8M  \n",
       "3943           0 - 0  \n",
       "\n",
       "[3944 rows x 20 columns]"
      ]
     },
     "execution_count": 21,
     "metadata": {},
     "output_type": "execute_result"
    }
   ],
   "source": [
    "# review datatset\n",
    "youtube_data"
   ]
  },
  {
   "cell_type": "code",
   "execution_count": 23,
   "metadata": {
    "colab": {
     "base_uri": "https://localhost:8080/",
     "height": 729
    },
    "execution": {
     "iopub.execute_input": "2025-02-20T02:44:09.188427Z",
     "iopub.status.busy": "2025-02-20T02:44:09.188427Z",
     "iopub.status.idle": "2025-02-20T02:44:09.193989Z",
     "shell.execute_reply": "2025-02-20T02:44:09.193989Z",
     "shell.execute_reply.started": "2025-02-20T02:44:09.188427Z"
    },
    "id": "gabMby6Lxnjq",
    "outputId": "29423d9e-8517-4b7d-cb1e-d452f8c41ce8",
    "scrolled": true
   },
   "outputs": [
    {
     "name": "stdout",
     "output_type": "stream",
     "text": [
      "(3944, 20)\n"
     ]
    },
    {
     "data": {
      "text/plain": [
       "web-scraper-order        object\n",
       "web-scraper-start-url    object\n",
       "userID                   object\n",
       "userID-href              object\n",
       "name                     object\n",
       "uploads                   int64\n",
       "subscribers               int64\n",
       "videoviews                int64\n",
       "country                  object\n",
       "channeltype              object\n",
       "usercreated              object\n",
       "grade                    object\n",
       "YouTube_Link             object\n",
       "YouTube_Link-href        object\n",
       "TwitterHandle            object\n",
       "TwitterHandle-href       object\n",
       "InstagramHandle          object\n",
       "InstagramHandle-href     object\n",
       "MonthlyEarnings          object\n",
       "YearlyEarnings           object\n",
       "dtype: object"
      ]
     },
     "execution_count": 23,
     "metadata": {},
     "output_type": "execute_result"
    }
   ],
   "source": [
    "# Examine dataframe\n",
    "print(youtube_data.shape)\n",
    "youtube_data.dtypes"
   ]
  },
  {
   "cell_type": "code",
   "execution_count": 7,
   "metadata": {
    "colab": {
     "base_uri": "https://localhost:8080/",
     "height": 617
    },
    "execution": {
     "iopub.execute_input": "2025-02-20T01:44:42.925770Z",
     "iopub.status.busy": "2025-02-20T01:44:42.925770Z",
     "iopub.status.idle": "2025-02-20T01:44:42.939839Z",
     "shell.execute_reply": "2025-02-20T01:44:42.939839Z",
     "shell.execute_reply.started": "2025-02-20T01:44:42.925770Z"
    },
    "id": "RQRpO8DQGIdT",
    "outputId": "a1be67e9-de05-441d-d419-63d184b04e2b"
   },
   "outputs": [
    {
     "data": {
      "text/plain": [
       "channeltype\n",
       "Animals             9\n",
       "Autos              14\n",
       "Comedy            275\n",
       "Education         142\n",
       "Entertainment    1037\n",
       "Film              176\n",
       "Games             449\n",
       "Howto             223\n",
       "Music             760\n",
       "News               55\n",
       "Nonprofit           3\n",
       "People            392\n",
       "Shows               1\n",
       "Sports             56\n",
       "Tech               78\n",
       "Travel             11\n",
       "Name: userID, dtype: int64"
      ]
     },
     "execution_count": 7,
     "metadata": {},
     "output_type": "execute_result"
    }
   ],
   "source": [
    "# review channeltypes\n",
    "youtube_data.groupby(['channeltype'])['userID'].count()"
   ]
  },
  {
   "cell_type": "code",
   "execution_count": 24,
   "metadata": {
    "colab": {
     "base_uri": "https://localhost:8080/",
     "height": 711
    },
    "execution": {
     "iopub.execute_input": "2025-02-20T02:44:11.068879Z",
     "iopub.status.busy": "2025-02-20T02:44:11.068879Z",
     "iopub.status.idle": "2025-02-20T02:44:11.076863Z",
     "shell.execute_reply": "2025-02-20T02:44:11.076863Z",
     "shell.execute_reply.started": "2025-02-20T02:44:11.068879Z"
    },
    "id": "PMvApL_SQrrc",
    "outputId": "c678decd-3f9e-4458-ec2c-232d2b63eb20",
    "scrolled": true
   },
   "outputs": [
    {
     "data": {
      "text/plain": [
       "web-scraper-order           0\n",
       "web-scraper-start-url       0\n",
       "userID                      0\n",
       "userID-href                 0\n",
       "name                        0\n",
       "uploads                     0\n",
       "subscribers                 0\n",
       "videoviews                  0\n",
       "country                   294\n",
       "channeltype               263\n",
       "usercreated                 0\n",
       "grade                       0\n",
       "YouTube_Link             3885\n",
       "YouTube_Link-href          59\n",
       "TwitterHandle            3892\n",
       "TwitterHandle-href        610\n",
       "InstagramHandle          3902\n",
       "InstagramHandle-href       59\n",
       "MonthlyEarnings             0\n",
       "YearlyEarnings              0\n",
       "dtype: int64"
      ]
     },
     "execution_count": 24,
     "metadata": {},
     "output_type": "execute_result"
    }
   ],
   "source": [
    "#check for nulls. NOTE:263 null channeltype\n",
    "youtube_data.isnull().sum()"
   ]
  },
  {
   "cell_type": "code",
   "execution_count": 9,
   "metadata": {
    "execution": {
     "iopub.execute_input": "2025-02-20T01:44:47.693646Z",
     "iopub.status.busy": "2025-02-20T01:44:47.693646Z",
     "iopub.status.idle": "2025-02-20T01:44:47.704137Z",
     "shell.execute_reply": "2025-02-20T01:44:47.703728Z",
     "shell.execute_reply.started": "2025-02-20T01:44:47.693646Z"
    },
    "id": "qdAip40pRCgH"
   },
   "outputs": [],
   "source": [
    "# fill null channeltype records with Unknown\n",
    "youtube_data[\"channeltype\"] = youtube_data[\"channeltype\"].fillna(\"Unknown\")"
   ]
  },
  {
   "cell_type": "code",
   "execution_count": 10,
   "metadata": {
    "colab": {
     "base_uri": "https://localhost:8080/",
     "height": 711
    },
    "execution": {
     "iopub.execute_input": "2025-02-20T01:44:50.909663Z",
     "iopub.status.busy": "2025-02-20T01:44:50.909663Z",
     "iopub.status.idle": "2025-02-20T01:44:50.917271Z",
     "shell.execute_reply": "2025-02-20T01:44:50.917271Z",
     "shell.execute_reply.started": "2025-02-20T01:44:50.909663Z"
    },
    "id": "kcrHbia4i-xE",
    "outputId": "d423afab-05c5-493f-fd4e-9b9784261551",
    "scrolled": true
   },
   "outputs": [
    {
     "data": {
      "text/plain": [
       "web-scraper-order           0\n",
       "web-scraper-start-url       0\n",
       "userID                      0\n",
       "userID-href                 0\n",
       "name                        0\n",
       "uploads                     0\n",
       "subscribers                 0\n",
       "videoviews                  0\n",
       "country                   294\n",
       "channeltype                 0\n",
       "usercreated                 0\n",
       "grade                       0\n",
       "YouTube_Link             3885\n",
       "YouTube_Link-href          59\n",
       "TwitterHandle            3892\n",
       "TwitterHandle-href        610\n",
       "InstagramHandle          3902\n",
       "InstagramHandle-href       59\n",
       "MonthlyEarnings             0\n",
       "YearlyEarnings              0\n",
       "dtype: int64"
      ]
     },
     "execution_count": 10,
     "metadata": {},
     "output_type": "execute_result"
    }
   ],
   "source": [
    "#review nulls again to check on update\n",
    "youtube_data.isnull().sum()"
   ]
  },
  {
   "cell_type": "code",
   "execution_count": 25,
   "metadata": {
    "colab": {
     "base_uri": "https://localhost:8080/",
     "height": 649
    },
    "execution": {
     "iopub.execute_input": "2025-02-20T02:44:12.637848Z",
     "iopub.status.busy": "2025-02-20T02:44:12.637848Z",
     "iopub.status.idle": "2025-02-20T02:44:12.644250Z",
     "shell.execute_reply": "2025-02-20T02:44:12.644250Z",
     "shell.execute_reply.started": "2025-02-20T02:44:12.637848Z"
    },
    "id": "aQ1ziVQBRdxj",
    "outputId": "f32498d6-8d00-4e1c-d11f-32f031fb4b03",
    "scrolled": true
   },
   "outputs": [
    {
     "data": {
      "text/plain": [
       "channeltype\n",
       "Animals             9\n",
       "Autos              14\n",
       "Comedy            275\n",
       "Education         142\n",
       "Entertainment    1037\n",
       "Film              176\n",
       "Games             449\n",
       "Howto             223\n",
       "Music             760\n",
       "News               55\n",
       "Nonprofit           3\n",
       "People            392\n",
       "Shows               1\n",
       "Sports             56\n",
       "Tech               78\n",
       "Travel             11\n",
       "Name: userID, dtype: int64"
      ]
     },
     "execution_count": 25,
     "metadata": {},
     "output_type": "execute_result"
    }
   ],
   "source": [
    "#review channeltypes again to confirm update.\n",
    "youtube_data.groupby(['channeltype'])['userID'].count()"
   ]
  },
  {
   "cell_type": "code",
   "execution_count": 34,
   "metadata": {
    "colab": {
     "base_uri": "https://localhost:8080/",
     "height": 617
    },
    "execution": {
     "iopub.execute_input": "2025-02-20T02:45:06.213051Z",
     "iopub.status.busy": "2025-02-20T02:45:06.213051Z",
     "iopub.status.idle": "2025-02-20T02:45:06.221807Z",
     "shell.execute_reply": "2025-02-20T02:45:06.221807Z",
     "shell.execute_reply.started": "2025-02-20T02:45:06.213051Z"
    },
    "id": "PahXdoUpZUpE",
    "outputId": "f6200bd5-9271-4b37-f4b6-4bf6ab7c4738",
    "scrolled": true
   },
   "outputs": [
    {
     "data": {
      "text/plain": [
       "channeltype\n",
       "Music            32.925586\n",
       "Entertainment    31.192661\n",
       "Games             9.887870\n",
       "Film              6.218145\n",
       "People            4.994903\n",
       "Comedy            3.975535\n",
       "Education         3.465851\n",
       "Howto             2.242610\n",
       "News              1.834862\n",
       "Sports            1.529052\n",
       "Tech              1.121305\n",
       "Animals           0.203874\n",
       "Autos             0.203874\n",
       "Nonprofit         0.101937\n",
       "Travel            0.101937\n",
       "Name: proportion, dtype: float64"
      ]
     },
     "execution_count": 34,
     "metadata": {},
     "output_type": "execute_result"
    }
   ],
   "source": [
    "def get_channeltype_distribution(youtube_data, views_column='videoviews', channel_column='channeltype', top_n=1000):\n",
    "    # Sorting of dataframe by the no. of video views in des. order\n",
    "    sorted_youtube_data = youtube_data.sort_values(by=views_column, ascending=False)\n",
    "\n",
    "    # filter for Top n filtered records\n",
    "    top_records = sorted_youtube_data.head(top_n)\n",
    "\n",
    "    # Group data to get the distribution of channeltype\n",
    "    distribution = top_records[channel_column].value_counts(normalize=True) * 100\n",
    "\n",
    "    # Return the distribution as a percentage and the top records\n",
    "    return distribution, top_records\n",
    "\n",
    "#Run get channel type distribution function and assign the results to global variables.\n",
    "distribution, top_records = get_channeltype_distribution(youtube_data)\n",
    "\n",
    "#Review distribution\n",
    "distribution\n"
   ]
  },
  {
   "cell_type": "code",
   "execution_count": 27,
   "metadata": {
    "execution": {
     "iopub.execute_input": "2025-02-20T02:44:16.397363Z",
     "iopub.status.busy": "2025-02-20T02:44:16.396444Z",
     "iopub.status.idle": "2025-02-20T02:44:16.400539Z",
     "shell.execute_reply": "2025-02-20T02:44:16.400017Z",
     "shell.execute_reply.started": "2025-02-20T02:44:16.397363Z"
    },
    "id": "hRun9Y1cptml"
   },
   "outputs": [],
   "source": [
    "# import matplotlib package to use for distribution visulization.\n",
    "import matplotlib.pyplot as plt"
   ]
  },
  {
   "cell_type": "code",
   "execution_count": 28,
   "metadata": {
    "colab": {
     "base_uri": "https://localhost:8080/",
     "height": 733
    },
    "execution": {
     "iopub.execute_input": "2025-02-20T02:44:17.669447Z",
     "iopub.status.busy": "2025-02-20T02:44:17.669447Z",
     "iopub.status.idle": "2025-02-20T02:44:17.850254Z",
     "shell.execute_reply": "2025-02-20T02:44:17.850254Z",
     "shell.execute_reply.started": "2025-02-20T02:44:17.669447Z"
    },
    "id": "5pmwd2BetWZf",
    "outputId": "9b7d14ca-aafa-4202-ec65-24808dc8f4c1",
    "scrolled": true
   },
   "outputs": [
    {
     "data": {
      "image/png": "[encoded data removed]",
      "text/plain": [
       "<Figure size 1400x700 with 1 Axes>"
      ]
     },
     "metadata": {},
     "output_type": "display_data"
    }
   ],
   "source": [
    "# Create Bar Graph\n",
    "plt.figure(figsize=(14, 7))\n",
    "# Use distribution variable instead of the function for index and values\n",
    "plt.bar(distribution.index, distribution.values, color='orange', edgecolor='black', width=0.8)\n",
    "# Set title and labels\n",
    "plt.title(\"Bar Graph of YouTube Top Channel:Type Distribution\", fontsize=16)\n",
    "plt.xlabel(\"Channel Type\", fontsize=14)\n",
    "plt.ylabel(\"Percentage (%)\", fontsize=14)\n",
    "plt.xticks(rotation=70)  # Rotate x-axis labels for better readability\n",
    "plt.yticks(range(0,35,2))\n",
    "\n",
    "# Show the Bar Graph\n",
    "plt.show()"
   ]
  },
  {
   "cell_type": "code",
   "execution_count": 35,
   "metadata": {
    "execution": {
     "iopub.execute_input": "2025-02-20T02:45:09.725063Z",
     "iopub.status.busy": "2025-02-20T02:45:09.725063Z",
     "iopub.status.idle": "2025-02-20T02:45:09.737697Z",
     "shell.execute_reply": "2025-02-20T02:45:09.737697Z",
     "shell.execute_reply.started": "2025-02-20T02:45:09.725063Z"
    },
    "id": "VKGqago3bDxl"
   },
   "outputs": [],
   "source": [
    "#Export Top 1000 Records to CSV:\n",
    "top_records.to_csv(\"top_1000_youtube_channels.csv\", index=False, encoding='latin1')\n"
   ]
  }
 ],
 "metadata": {
  "colab": {
   "provenance": []
  },
  "kernelspec": {
   "display_name": "Python 3 (ipykernel)",
   "language": "python",
   "name": "python3"
  },
  "language_info": {
   "codemirror_mode": {
    "name": "ipython",
    "version": 3
   },
   "file_extension": ".py",
   "mimetype": "text/x-python",
   "name": "python",
   "nbconvert_exporter": "python",
   "pygments_lexer": "ipython3",
   "version": "3.12.7"
  }
 },
 "nbformat": 4,
 "nbformat_minor": 4
}
